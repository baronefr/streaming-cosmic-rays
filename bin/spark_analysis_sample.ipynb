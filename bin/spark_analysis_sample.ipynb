{
 "cells": [
  {
   "cell_type": "markdown",
   "id": "a5894bc1-42b7-46c8-94d0-3cc762c62f4b",
   "metadata": {},
   "source": [
    "# Spark analysis"
   ]
  },
  {
   "cell_type": "code",
   "execution_count": 1,
   "id": "5804f445-8f45-40e3-a994-278d3a7f0289",
   "metadata": {},
   "outputs": [],
   "source": [
    "# GENERAL requirements\n",
    "\n",
    "import json"
   ]
  },
  {
   "cell_type": "code",
   "execution_count": 2,
   "id": "b89ac663-2527-45b8-9f5b-4a19b9e1f04c",
   "metadata": {},
   "outputs": [],
   "source": [
    "# environment\n",
    "\n",
    "KAFKA_BOOTSTRAP_SERVER = 'localhost:9092'\n",
    "INPUT_TOPIC  = 'cosmo-stream'\n",
    "OUTPUT_TOPIC = 'cosmo-results'\n",
    "\n",
    "SPARK_PATH = '/home/baronefr/storage/uni/courses/mapd_modB/repo/spark/spark-3.2.1-bin-hadoop3.2/'"
   ]
  },
  {
   "cell_type": "code",
   "execution_count": 3,
   "id": "d6b640f9-0c7a-4984-be08-30a7445cd4fa",
   "metadata": {},
   "outputs": [],
   "source": [
    "# get Kafka ready\n",
    "from kafka import KafkaProducer\n",
    "\n",
    "cosmo_kafka = KafkaProducer(bootstrap_servers=KAFKA_BOOTSTRAP_SERVER)"
   ]
  },
  {
   "cell_type": "code",
   "execution_count": 4,
   "id": "8b5cfd3b-94d1-4e49-a388-40d1ce47aa12",
   "metadata": {
    "scrolled": true,
    "tags": []
   },
   "outputs": [
    {
     "name": "stderr",
     "output_type": "stream",
     "text": [
      "22/06/16 21:16:55 WARN Utils: Your hostname, cayde resolves to a loopback address: 127.0.1.1; using 192.168.0.117 instead (on interface wlp5s0)\n",
      "22/06/16 21:16:55 WARN Utils: Set SPARK_LOCAL_IP if you need to bind to another address\n",
      "WARNING: An illegal reflective access operation has occurred\n",
      "WARNING: Illegal reflective access by org.apache.spark.unsafe.Platform (file:/mnt/DATA/baronefr/storage/uni/courses/mapd_modB/repo/spark/spark-3.2.1-bin-hadoop3.2/jars/spark-unsafe_2.12-3.2.1.jar) to constructor java.nio.DirectByteBuffer(long,int)\n",
      "WARNING: Please consider reporting this to the maintainers of org.apache.spark.unsafe.Platform\n",
      "WARNING: Use --illegal-access=warn to enable warnings of further illegal reflective access operations\n",
      "WARNING: All illegal access operations will be denied in a future release\n",
      "Ivy Default Cache set to: /home/baronefr/.ivy2/cache\n",
      "The jars for the packages stored in: /home/baronefr/.ivy2/jars\n",
      "org.apache.spark#spark-sql-kafka-0-10_2.12 added as a dependency\n",
      ":: resolving dependencies :: org.apache.spark#spark-submit-parent-646d8b4d-27da-4987-ac90-86a4d1db5bf1;1.0\n",
      "\tconfs: [default]\n"
     ]
    },
    {
     "name": "stdout",
     "output_type": "stream",
     "text": [
      ":: loading settings :: url = jar:file:/mnt/DATA/baronefr/storage/uni/courses/mapd_modB/repo/spark/spark-3.2.1-bin-hadoop3.2/jars/ivy-2.5.0.jar!/org/apache/ivy/core/settings/ivysettings.xml\n"
     ]
    },
    {
     "name": "stderr",
     "output_type": "stream",
     "text": [
      "\tfound org.apache.spark#spark-sql-kafka-0-10_2.12;3.1.1 in central\n",
      "\tfound org.apache.spark#spark-token-provider-kafka-0-10_2.12;3.1.1 in central\n",
      "\tfound org.apache.kafka#kafka-clients;2.6.0 in central\n",
      "\tfound com.github.luben#zstd-jni;1.4.8-1 in central\n",
      "\tfound org.lz4#lz4-java;1.7.1 in central\n",
      "\tfound org.xerial.snappy#snappy-java;1.1.8.2 in central\n",
      "\tfound org.slf4j#slf4j-api;1.7.30 in central\n",
      "\tfound org.spark-project.spark#unused;1.0.0 in central\n",
      "\tfound org.apache.commons#commons-pool2;2.6.2 in central\n",
      ":: resolution report :: resolve 206ms :: artifacts dl 5ms\n",
      "\t:: modules in use:\n",
      "\tcom.github.luben#zstd-jni;1.4.8-1 from central in [default]\n",
      "\torg.apache.commons#commons-pool2;2.6.2 from central in [default]\n",
      "\torg.apache.kafka#kafka-clients;2.6.0 from central in [default]\n",
      "\torg.apache.spark#spark-sql-kafka-0-10_2.12;3.1.1 from central in [default]\n",
      "\torg.apache.spark#spark-token-provider-kafka-0-10_2.12;3.1.1 from central in [default]\n",
      "\torg.lz4#lz4-java;1.7.1 from central in [default]\n",
      "\torg.slf4j#slf4j-api;1.7.30 from central in [default]\n",
      "\torg.spark-project.spark#unused;1.0.0 from central in [default]\n",
      "\torg.xerial.snappy#snappy-java;1.1.8.2 from central in [default]\n",
      "\t---------------------------------------------------------------------\n",
      "\t|                  |            modules            ||   artifacts   |\n",
      "\t|       conf       | number| search|dwnlded|evicted|| number|dwnlded|\n",
      "\t---------------------------------------------------------------------\n",
      "\t|      default     |   9   |   0   |   0   |   0   ||   9   |   0   |\n",
      "\t---------------------------------------------------------------------\n",
      ":: retrieving :: org.apache.spark#spark-submit-parent-646d8b4d-27da-4987-ac90-86a4d1db5bf1\n",
      "\tconfs: [default]\n",
      "\t0 artifacts copied, 9 already retrieved (0kB/5ms)\n",
      "22/06/16 21:16:56 WARN NativeCodeLoader: Unable to load native-hadoop library for your platform... using builtin-java classes where applicable\n",
      "Using Spark's default log4j profile: org/apache/spark/log4j-defaults.properties\n",
      "Setting default log level to \"WARN\".\n",
      "To adjust logging level use sc.setLogLevel(newLevel). For SparkR, use setLogLevel(newLevel).\n"
     ]
    },
    {
     "data": {
      "text/html": [
       "\n",
       "        <div>\n",
       "            <p><b>SparkContext</b></p>\n",
       "\n",
       "            <p><a href=\"http://192.168.0.117:4040\">Spark UI</a></p>\n",
       "\n",
       "            <dl>\n",
       "              <dt>Version</dt>\n",
       "                <dd><code>v3.2.1</code></dd>\n",
       "              <dt>Master</dt>\n",
       "                <dd><code>spark://localhost:7077</code></dd>\n",
       "              <dt>AppName</dt>\n",
       "                <dd><code>test realtime</code></dd>\n",
       "            </dl>\n",
       "        </div>\n",
       "        "
      ],
      "text/plain": [
       "<SparkContext master=spark://localhost:7077 appName=test realtime>"
      ]
     },
     "execution_count": 4,
     "metadata": {},
     "output_type": "execute_result"
    }
   ],
   "source": [
    "## CAYDE LOCAL CLUSTER for streaming\n",
    "\n",
    "import findspark\n",
    "findspark.init('/home/baronefr/storage/uni/courses/mapd_modB/repo/spark/spark-3.2.1-bin-hadoop3.2/')\n",
    "\n",
    "from pyspark.sql import SparkSession\n",
    "from pyspark.sql.functions import from_json, col\n",
    "from pyspark.sql.types import StructField, StructType, StringType, DoubleType, IntegerType, LongType\n",
    "from pyspark.sql.functions import split\n",
    "\n",
    "spark = SparkSession.builder \\\n",
    "        .master(\"spark://localhost:7077\")\\\n",
    "        .appName(\"test realtime\")\\\n",
    "        .config(\"spark.executor.memory\", \"512m\")\\\n",
    "        .config(\"spark.sql.execution.arrow.pyspark.enabled\", \"true\")\\\n",
    "        .config(\"spark.sql.execution.arrow.pyspark.fallback.enabled\", \"false\")\\\n",
    "        .config(\"spark.jars.packages\",\"org.apache.spark:spark-sql-kafka-0-10_2.12:3.1.1\")\\\n",
    "        .getOrCreate()\n",
    "\n",
    "KAFKA_BOOTSTRAP_SERVERS = 'localhost:9092'\n",
    "\n",
    "sc = spark.sparkContext\n",
    "sc"
   ]
  },
  {
   "cell_type": "markdown",
   "id": "9506f420-0d90-496a-a97a-dbf782c78509",
   "metadata": {},
   "source": [
    "### parse input dataframe (streamed)"
   ]
  },
  {
   "cell_type": "code",
   "execution_count": 5,
   "id": "8ca2171a-c397-4a43-b30b-7da48606934b",
   "metadata": {},
   "outputs": [
    {
     "name": "stdout",
     "output_type": "stream",
     "text": [
      "root\n",
      " |-- key: binary (nullable = true)\n",
      " |-- value: binary (nullable = true)\n",
      " |-- topic: string (nullable = true)\n",
      " |-- partition: integer (nullable = true)\n",
      " |-- offset: long (nullable = true)\n",
      " |-- timestamp: timestamp (nullable = true)\n",
      " |-- timestampType: integer (nullable = true)\n",
      "\n"
     ]
    }
   ],
   "source": [
    "inputDF = spark.readStream.format(\"kafka\")\\\n",
    "    .option(\"kafka.bootstrap.servers\", KAFKA_BOOTSTRAP_SERVERS)\\\n",
    "    .option(\"kafkaConsumer.pollTimeoutMs\", 4000)\\\n",
    "    .option('subscribe', INPUT_TOPIC)\\\n",
    "    .option(\"startingOffsets\", \"latest\") \\\n",
    "    .load()\n",
    "#inputDF.isStreaming  # to check if True\n",
    "inputDF.printSchema()"
   ]
  },
  {
   "cell_type": "code",
   "execution_count": 6,
   "id": "0bb17c6e-55b3-459b-95f4-448f26f2ec8b",
   "metadata": {},
   "outputs": [
    {
     "name": "stdout",
     "output_type": "stream",
     "text": [
      "root\n",
      " |-- sv: array (nullable = true)\n",
      " |    |-- element: string (containsNull = true)\n",
      "\n"
     ]
    }
   ],
   "source": [
    "valuesDF = inputDF.select( split( col(\"value\").cast(\"String\"), \",\").alias(\"sv\") )\n",
    "valuesDF.printSchema()"
   ]
  },
  {
   "cell_type": "code",
   "execution_count": 7,
   "id": "b4d7468e-7f29-459d-a2f4-08c9712a81e0",
   "metadata": {},
   "outputs": [
    {
     "name": "stdout",
     "output_type": "stream",
     "text": [
      "root\n",
      " |-- HEAD: integer (nullable = true)\n",
      " |-- FPGA: integer (nullable = true)\n",
      " |-- TDC_CHANNEL: integer (nullable = true)\n",
      " |-- ORBIT_CNT: long (nullable = true)\n",
      " |-- BX_COUNTER: integer (nullable = true)\n",
      " |-- TDC_MEAS: integer (nullable = true)\n",
      "\n"
     ]
    }
   ],
   "source": [
    "# cast to HEAD,FPGA,TDC_CHANNEL,ORBIT_CNT,BX_COUNTER,TDC_MEAS\n",
    "cosmoDF = valuesDF.withColumn('HEAD', col('sv').getItem(0).cast(\"Integer\"))\\\n",
    "                .withColumn('FPGA', col('sv').getItem(1).cast(\"Integer\"))\\\n",
    "                .withColumn('TDC_CHANNEL', col('sv').getItem(2).cast(\"Integer\"))\\\n",
    "                .withColumn('ORBIT_CNT', col('sv').getItem(3).cast(\"Long\"))\\\n",
    "                .withColumn('BX_COUNTER', col('sv').getItem(4).cast(\"Integer\"))\\\n",
    "                .withColumn('TDC_MEAS', col('sv').getItem(5).cast(\"Integer\"))\\\n",
    "                .drop('sv')\n",
    "cosmoDF.printSchema()"
   ]
  },
  {
   "cell_type": "code",
   "execution_count": 8,
   "id": "8fcf15c0-7c19-4b8e-89a6-9fa4a8df6195",
   "metadata": {},
   "outputs": [],
   "source": [
    "def just_show(df, batch_id):\n",
    "    df.show()\n",
    "#cosmoDF.writeStream.foreachBatch(just_show).start().awaitTermination()"
   ]
  },
  {
   "cell_type": "markdown",
   "id": "2c4ed967-111e-48b6-806f-f448051d51f1",
   "metadata": {
    "tags": []
   },
   "source": [
    "### elaborator"
   ]
  },
  {
   "cell_type": "code",
   "execution_count": 9,
   "id": "aaabb9d9-63b8-4e88-bdf4-ce2abb0a578f",
   "metadata": {},
   "outputs": [],
   "source": [
    "def counter(df, batch_id):\n",
    "    n = df.count()\n",
    "    \n",
    "    # buffer out!\n",
    "    batch_statistics = { 'n' : n }\n",
    "    cosmo_kafka.send(OUTPUT_TOPIC, json.dumps(batch_statistics).encode('utf-8'))\n",
    "    return n"
   ]
  },
  {
   "cell_type": "code",
   "execution_count": null,
   "id": "f3a751fc-ece4-4f57-be88-2b17b949847e",
   "metadata": {},
   "outputs": [],
   "source": [
    "cosmoDF.writeStream.foreachBatch(counter).start().awaitTermination()"
   ]
  },
  {
   "cell_type": "markdown",
   "id": "a6dcbb0e-c400-4149-884e-b208c7dbf10b",
   "metadata": {},
   "source": [
    "End of file"
   ]
  }
 ],
 "metadata": {
  "kernelspec": {
   "display_name": "Python 3 (ipykernel)",
   "language": "python",
   "name": "python3"
  },
  "language_info": {
   "codemirror_mode": {
    "name": "ipython",
    "version": 3
   },
   "file_extension": ".py",
   "mimetype": "text/x-python",
   "name": "python",
   "nbconvert_exporter": "python",
   "pygments_lexer": "ipython3",
   "version": "3.8.10"
  }
 },
 "nbformat": 4,
 "nbformat_minor": 5
}
